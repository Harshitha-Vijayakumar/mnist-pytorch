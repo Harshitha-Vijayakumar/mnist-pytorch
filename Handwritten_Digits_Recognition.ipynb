{
  "nbformat": 4,
  "nbformat_minor": 0,
  "metadata": {
    "colab": {
      "provenance": []
    },
    "kernelspec": {
      "name": "python3",
      "display_name": "Python 3"
    },
    "language_info": {
      "name": "python"
    }
  },
  "cells": [
    {
      "cell_type": "code",
      "execution_count": 1,
      "metadata": {
        "id": "c88nYYewwpy7"
      },
      "outputs": [],
      "source": [
        "import torch, torchvision, matplotlib"
      ]
    },
    {
      "cell_type": "code",
      "source": [
        "from torchvision import datasets\n",
        "from torchvision.transforms import ToTensor #ToTensor -- converts image data into a tensor"
      ],
      "metadata": {
        "id": "JlutgzaNKeHB"
      },
      "execution_count": 2,
      "outputs": []
    },
    {
      "cell_type": "code",
      "source": [
        "train_data = datasets.MNIST(\n",
        "    root=\"data\",\n",
        "    train=True, #if False, loads the test data\n",
        "    download=True, #downloads the MNIST dataset, not just loads it locally\n",
        "    transform=ToTensor()\n",
        ")"
      ],
      "metadata": {
        "colab": {
          "base_uri": "https://localhost:8080/"
        },
        "id": "wNDTxhHYKeVU",
        "outputId": "500ce26f-bca2-499f-bcd7-9cd922d74904"
      },
      "execution_count": 3,
      "outputs": [
        {
          "output_type": "stream",
          "name": "stderr",
          "text": [
            "100%|██████████| 9.91M/9.91M [00:00<00:00, 17.9MB/s]\n",
            "100%|██████████| 28.9k/28.9k [00:00<00:00, 486kB/s]\n",
            "100%|██████████| 1.65M/1.65M [00:00<00:00, 4.47MB/s]\n",
            "100%|██████████| 4.54k/4.54k [00:00<00:00, 6.34MB/s]\n"
          ]
        }
      ]
    },
    {
      "cell_type": "code",
      "source": [
        "test_data = datasets.MNIST(\n",
        "    root=\"data\",\n",
        "    train=False,\n",
        "    download=True,\n",
        "    transform=ToTensor()\n",
        ")"
      ],
      "metadata": {
        "id": "-9Rd3NmpMu89"
      },
      "execution_count": 5,
      "outputs": []
    },
    {
      "cell_type": "code",
      "source": [
        "train_data.data #checking the data itself\n",
        "train_data.data.shape #checking the size of the data"
      ],
      "metadata": {
        "colab": {
          "base_uri": "https://localhost:8080/"
        },
        "id": "C_LscPvCNv_k",
        "outputId": "516ba5c4-b89d-4140-c555-c1f97e9e85b4"
      },
      "execution_count": 10,
      "outputs": [
        {
          "output_type": "execute_result",
          "data": {
            "text/plain": [
              "torch.Size([60000, 28, 28])"
            ]
          },
          "metadata": {},
          "execution_count": 10
        }
      ]
    },
    {
      "cell_type": "code",
      "source": [
        "train_data.targets #checking the labels (outputs) of the training data\n",
        "train_data.targets.shape #checking the size of the labels"
      ],
      "metadata": {
        "colab": {
          "base_uri": "https://localhost:8080/"
        },
        "id": "1RR_iRcQOPTB",
        "outputId": "5cadff4f-076a-41ff-f90f-3770b4f51444"
      },
      "execution_count": 12,
      "outputs": [
        {
          "output_type": "execute_result",
          "data": {
            "text/plain": [
              "torch.Size([60000])"
            ]
          },
          "metadata": {},
          "execution_count": 12
        }
      ]
    },
    {
      "cell_type": "code",
      "source": [
        "from torch.utils.data import DataLoader #Loading the data in batches\n",
        "\n",
        "loaders = {\n",
        "    'train': DataLoader(train_data,\n",
        "                        batch_size=100,\n",
        "                        shuffle=True,\n",
        "                        num_workers=1), #num_workers specifies how many subprocesses to use for data loading; if 0, it happens in main process (used for data debugging)\n",
        "\n",
        "    'test': DataLoader(test_data,\n",
        "                        batch_size=100,\n",
        "                        shuffle=True,\n",
        "                        num_workers=1)\n",
        "}"
      ],
      "metadata": {
        "id": "VyJZbHaFOomy"
      },
      "execution_count": 13,
      "outputs": []
    },
    {
      "cell_type": "code",
      "source": [
        "loaders"
      ],
      "metadata": {
        "colab": {
          "base_uri": "https://localhost:8080/"
        },
        "id": "2w9qKHJBPcP4",
        "outputId": "6b4f4900-7610-4e13-8470-121ffb22665f"
      },
      "execution_count": 14,
      "outputs": [
        {
          "output_type": "execute_result",
          "data": {
            "text/plain": [
              "{'train': <torch.utils.data.dataloader.DataLoader at 0x788e4d11fd10>,\n",
              " 'test': <torch.utils.data.dataloader.DataLoader at 0x788e4d11c590>}"
            ]
          },
          "metadata": {},
          "execution_count": 14
        }
      ]
    },
    {
      "cell_type": "code",
      "source": [
        "import torch.nn as nn\n",
        "import torch.nn.functional as F\n",
        "import torch.optim as optim\n",
        "\n",
        "class Net(nn.Module):\n",
        "\n",
        "  def __init__(self):\n",
        "    super(Net, self).__init__() #Calls the constructor of the parent class?\n",
        "\n",
        "    self.conv1 = nn.Conv2d(in_channels=1, out_channels=10, kernel_size=5)\n",
        "    self.conv2 = nn.Conv2d(10, 20, kernel_size=5)\n",
        "    self.conv2_drop = nn.Dropout2d() #drops out/deactivates certain neurons in the layer\n",
        "    self.fc1 = nn.Linear(320, 50)\n",
        "    self.fc2 = nn.Linear(50, 10)\n",
        "\n",
        "  def forward(self, x): #x is data\n",
        "    x = F.relu(F.max_pool2d(self.conv1(x), 2))\n",
        "    x = F.relu(F.max_pool2d(self.conv2_drop(self.conv2(x)), 2))\n",
        "    x = x.view(-1, 320) #view is to flatten the output; 320=20*4*4\n",
        "    x = F.relu(self.fc1(x))\n",
        "    x = F.dropout(x, training=self.training) #dropout is only triggered during training, not evaluation\n",
        "    x = self.fc2(x)\n",
        "\n",
        "    return F.softmax(x)"
      ],
      "metadata": {
        "id": "_ThCyQ76Pq1t"
      },
      "execution_count": 16,
      "outputs": []
    },
    {
      "cell_type": "code",
      "source": [
        "device = torch.device(\"cuda\" if torch.cuda.is_available() else \"cpu\")"
      ],
      "metadata": {
        "id": "aIl_ga-zTTUN"
      },
      "execution_count": 17,
      "outputs": []
    },
    {
      "cell_type": "code",
      "source": [
        "model = Net().to(device)\n",
        "optimizer = optim.Adam(model.parameters(), lr=0.001)\n",
        "loss_fn = nn.CrossEntropyLoss()"
      ],
      "metadata": {
        "id": "q2lvq7VXTdtk"
      },
      "execution_count": 18,
      "outputs": []
    },
    {
      "cell_type": "code",
      "source": [
        "def train(epoch):\n",
        "  model.train()\n",
        "\n",
        "  for batch_idx, (data, target) in enumerate(loaders['train']):\n",
        "    data, target = data.to(device), target.to(device)\n",
        "    optimizer.zero_grad() #Zeroing the gradients before starting each backprop\n",
        "    output = model(data)\n",
        "    loss = loss_fn(output, target)\n",
        "    loss.backward()\n",
        "    optimizer.step()\n",
        "\n",
        "    if batch_idx % 20 == 0:\n",
        "      print(f'Train Epoch: {epoch} [{batch_idx * len(data)}/{len(loaders[\"train\"].dataset)} ({100. * batch_idx / len(loaders[\"train\"]):.0f}%)]\\tLoss: {loss.item():.6f}')"
      ],
      "metadata": {
        "id": "-WdIdNSyT2RD"
      },
      "execution_count": 19,
      "outputs": []
    },
    {
      "cell_type": "code",
      "source": [
        "def test():\n",
        "  model.eval()\n",
        "\n",
        "  test_loss = 0\n",
        "  correct = 0\n",
        "\n",
        "  with torch.no_grad(): #disabling gradient, no backprop\n",
        "    for data, target in loaders['test']:\n",
        "      data, target = data.to(device), target.to(device)\n",
        "      output = model(data)\n",
        "      test_loss += loss_fn(output, target).item()\n",
        "      pred = output.argmax(dim=1, keepdim=True)\n",
        "      correct += pred.eq(target.view_as(pred)).sum().item() #comparing the predicted to the actual target and if true, summing it\n",
        "\n",
        "  test_loss /= len(loaders['test'].dataset)\n",
        "  print(f'\\nTest set: Average Loss: {test_loss:.4f}, Accuracy {correct}/{len(loaders[\"test\"].dataset)} ({100. *correct / len(loaders[\"test\"].dataset):.0f}%\\n)')"
      ],
      "metadata": {
        "id": "_vF7sq4iWRbd"
      },
      "execution_count": 21,
      "outputs": []
    },
    {
      "cell_type": "code",
      "source": [
        "for epoch in range(1, 11):\n",
        "  train(epoch)\n",
        "  test()"
      ],
      "metadata": {
        "colab": {
          "base_uri": "https://localhost:8080/"
        },
        "id": "pcN3A2HPZfXu",
        "outputId": "eaa37689-207e-44ea-a8d5-fa8da9630c4e"
      },
      "execution_count": 22,
      "outputs": [
        {
          "output_type": "stream",
          "name": "stderr",
          "text": [
            "<ipython-input-16-bfe69c405935>:24: UserWarning: Implicit dimension choice for softmax has been deprecated. Change the call to include dim=X as an argument.\n",
            "  return F.softmax(x)\n"
          ]
        },
        {
          "output_type": "stream",
          "name": "stdout",
          "text": [
            "Train Epoch: 1 [0/60000 (0%)]\tLoss: 2.302036\n",
            "Train Epoch: 1 [2000/60000 (3%)]\tLoss: 2.305998\n",
            "Train Epoch: 1 [4000/60000 (7%)]\tLoss: 2.229107\n",
            "Train Epoch: 1 [6000/60000 (10%)]\tLoss: 2.034513\n",
            "Train Epoch: 1 [8000/60000 (13%)]\tLoss: 1.983213\n",
            "Train Epoch: 1 [10000/60000 (17%)]\tLoss: 1.851333\n",
            "Train Epoch: 1 [12000/60000 (20%)]\tLoss: 1.770956\n",
            "Train Epoch: 1 [14000/60000 (23%)]\tLoss: 1.802768\n",
            "Train Epoch: 1 [16000/60000 (27%)]\tLoss: 1.797330\n",
            "Train Epoch: 1 [18000/60000 (30%)]\tLoss: 1.659268\n",
            "Train Epoch: 1 [20000/60000 (33%)]\tLoss: 1.708373\n",
            "Train Epoch: 1 [22000/60000 (37%)]\tLoss: 1.668681\n",
            "Train Epoch: 1 [24000/60000 (40%)]\tLoss: 1.732095\n",
            "Train Epoch: 1 [26000/60000 (43%)]\tLoss: 1.638190\n",
            "Train Epoch: 1 [28000/60000 (47%)]\tLoss: 1.666607\n",
            "Train Epoch: 1 [30000/60000 (50%)]\tLoss: 1.749099\n",
            "Train Epoch: 1 [32000/60000 (53%)]\tLoss: 1.660009\n",
            "Train Epoch: 1 [34000/60000 (57%)]\tLoss: 1.641308\n",
            "Train Epoch: 1 [36000/60000 (60%)]\tLoss: 1.657038\n",
            "Train Epoch: 1 [38000/60000 (63%)]\tLoss: 1.607007\n",
            "Train Epoch: 1 [40000/60000 (67%)]\tLoss: 1.631163\n",
            "Train Epoch: 1 [42000/60000 (70%)]\tLoss: 1.599236\n",
            "Train Epoch: 1 [44000/60000 (73%)]\tLoss: 1.661013\n",
            "Train Epoch: 1 [46000/60000 (77%)]\tLoss: 1.583532\n",
            "Train Epoch: 1 [48000/60000 (80%)]\tLoss: 1.682015\n",
            "Train Epoch: 1 [50000/60000 (83%)]\tLoss: 1.666104\n",
            "Train Epoch: 1 [52000/60000 (87%)]\tLoss: 1.667617\n",
            "Train Epoch: 1 [54000/60000 (90%)]\tLoss: 1.556182\n",
            "Train Epoch: 1 [56000/60000 (93%)]\tLoss: 1.642060\n",
            "Train Epoch: 1 [58000/60000 (97%)]\tLoss: 1.643467\n",
            "\n",
            "Test set: Average Loss: 0.0153, Accuracy 9349/10000 (93%\n",
            ")\n",
            "Train Epoch: 2 [0/60000 (0%)]\tLoss: 1.568920\n",
            "Train Epoch: 2 [2000/60000 (3%)]\tLoss: 1.646516\n",
            "Train Epoch: 2 [4000/60000 (7%)]\tLoss: 1.654575\n",
            "Train Epoch: 2 [6000/60000 (10%)]\tLoss: 1.573890\n",
            "Train Epoch: 2 [8000/60000 (13%)]\tLoss: 1.613060\n",
            "Train Epoch: 2 [10000/60000 (17%)]\tLoss: 1.566731\n",
            "Train Epoch: 2 [12000/60000 (20%)]\tLoss: 1.579532\n",
            "Train Epoch: 2 [14000/60000 (23%)]\tLoss: 1.614682\n",
            "Train Epoch: 2 [16000/60000 (27%)]\tLoss: 1.600766\n",
            "Train Epoch: 2 [18000/60000 (30%)]\tLoss: 1.621588\n",
            "Train Epoch: 2 [20000/60000 (33%)]\tLoss: 1.572620\n",
            "Train Epoch: 2 [22000/60000 (37%)]\tLoss: 1.588801\n",
            "Train Epoch: 2 [24000/60000 (40%)]\tLoss: 1.586375\n",
            "Train Epoch: 2 [26000/60000 (43%)]\tLoss: 1.554226\n",
            "Train Epoch: 2 [28000/60000 (47%)]\tLoss: 1.619893\n",
            "Train Epoch: 2 [30000/60000 (50%)]\tLoss: 1.583075\n",
            "Train Epoch: 2 [32000/60000 (53%)]\tLoss: 1.563241\n",
            "Train Epoch: 2 [34000/60000 (57%)]\tLoss: 1.562217\n",
            "Train Epoch: 2 [36000/60000 (60%)]\tLoss: 1.601984\n",
            "Train Epoch: 2 [38000/60000 (63%)]\tLoss: 1.589497\n",
            "Train Epoch: 2 [40000/60000 (67%)]\tLoss: 1.560102\n",
            "Train Epoch: 2 [42000/60000 (70%)]\tLoss: 1.542635\n",
            "Train Epoch: 2 [44000/60000 (73%)]\tLoss: 1.588734\n",
            "Train Epoch: 2 [46000/60000 (77%)]\tLoss: 1.569017\n",
            "Train Epoch: 2 [48000/60000 (80%)]\tLoss: 1.584004\n",
            "Train Epoch: 2 [50000/60000 (83%)]\tLoss: 1.601140\n",
            "Train Epoch: 2 [52000/60000 (87%)]\tLoss: 1.591544\n",
            "Train Epoch: 2 [54000/60000 (90%)]\tLoss: 1.573895\n",
            "Train Epoch: 2 [56000/60000 (93%)]\tLoss: 1.588419\n",
            "Train Epoch: 2 [58000/60000 (97%)]\tLoss: 1.614187\n",
            "\n",
            "Test set: Average Loss: 0.0151, Accuracy 9514/10000 (95%\n",
            ")\n",
            "Train Epoch: 3 [0/60000 (0%)]\tLoss: 1.560605\n",
            "Train Epoch: 3 [2000/60000 (3%)]\tLoss: 1.562685\n",
            "Train Epoch: 3 [4000/60000 (7%)]\tLoss: 1.571811\n",
            "Train Epoch: 3 [6000/60000 (10%)]\tLoss: 1.564799\n",
            "Train Epoch: 3 [8000/60000 (13%)]\tLoss: 1.603941\n",
            "Train Epoch: 3 [10000/60000 (17%)]\tLoss: 1.543091\n",
            "Train Epoch: 3 [12000/60000 (20%)]\tLoss: 1.610489\n",
            "Train Epoch: 3 [14000/60000 (23%)]\tLoss: 1.548308\n",
            "Train Epoch: 3 [16000/60000 (27%)]\tLoss: 1.590399\n",
            "Train Epoch: 3 [18000/60000 (30%)]\tLoss: 1.570999\n",
            "Train Epoch: 3 [20000/60000 (33%)]\tLoss: 1.593905\n",
            "Train Epoch: 3 [22000/60000 (37%)]\tLoss: 1.616451\n",
            "Train Epoch: 3 [24000/60000 (40%)]\tLoss: 1.526163\n",
            "Train Epoch: 3 [26000/60000 (43%)]\tLoss: 1.593230\n",
            "Train Epoch: 3 [28000/60000 (47%)]\tLoss: 1.566243\n",
            "Train Epoch: 3 [30000/60000 (50%)]\tLoss: 1.551980\n",
            "Train Epoch: 3 [32000/60000 (53%)]\tLoss: 1.534238\n",
            "Train Epoch: 3 [34000/60000 (57%)]\tLoss: 1.590100\n",
            "Train Epoch: 3 [36000/60000 (60%)]\tLoss: 1.518142\n",
            "Train Epoch: 3 [38000/60000 (63%)]\tLoss: 1.578589\n",
            "Train Epoch: 3 [40000/60000 (67%)]\tLoss: 1.562395\n",
            "Train Epoch: 3 [42000/60000 (70%)]\tLoss: 1.609467\n",
            "Train Epoch: 3 [44000/60000 (73%)]\tLoss: 1.549033\n",
            "Train Epoch: 3 [46000/60000 (77%)]\tLoss: 1.536583\n",
            "Train Epoch: 3 [48000/60000 (80%)]\tLoss: 1.556364\n",
            "Train Epoch: 3 [50000/60000 (83%)]\tLoss: 1.603829\n",
            "Train Epoch: 3 [52000/60000 (87%)]\tLoss: 1.572027\n",
            "Train Epoch: 3 [54000/60000 (90%)]\tLoss: 1.561749\n",
            "Train Epoch: 3 [56000/60000 (93%)]\tLoss: 1.537330\n",
            "Train Epoch: 3 [58000/60000 (97%)]\tLoss: 1.542557\n",
            "\n",
            "Test set: Average Loss: 0.0150, Accuracy 9578/10000 (96%\n",
            ")\n",
            "Train Epoch: 4 [0/60000 (0%)]\tLoss: 1.536306\n",
            "Train Epoch: 4 [2000/60000 (3%)]\tLoss: 1.575735\n",
            "Train Epoch: 4 [4000/60000 (7%)]\tLoss: 1.537177\n",
            "Train Epoch: 4 [6000/60000 (10%)]\tLoss: 1.529845\n",
            "Train Epoch: 4 [8000/60000 (13%)]\tLoss: 1.576660\n",
            "Train Epoch: 4 [10000/60000 (17%)]\tLoss: 1.515313\n",
            "Train Epoch: 4 [12000/60000 (20%)]\tLoss: 1.550772\n",
            "Train Epoch: 4 [14000/60000 (23%)]\tLoss: 1.580270\n",
            "Train Epoch: 4 [16000/60000 (27%)]\tLoss: 1.578267\n",
            "Train Epoch: 4 [18000/60000 (30%)]\tLoss: 1.570826\n",
            "Train Epoch: 4 [20000/60000 (33%)]\tLoss: 1.530167\n",
            "Train Epoch: 4 [22000/60000 (37%)]\tLoss: 1.528438\n",
            "Train Epoch: 4 [24000/60000 (40%)]\tLoss: 1.597544\n",
            "Train Epoch: 4 [26000/60000 (43%)]\tLoss: 1.557975\n",
            "Train Epoch: 4 [28000/60000 (47%)]\tLoss: 1.576495\n",
            "Train Epoch: 4 [30000/60000 (50%)]\tLoss: 1.555836\n",
            "Train Epoch: 4 [32000/60000 (53%)]\tLoss: 1.568230\n",
            "Train Epoch: 4 [34000/60000 (57%)]\tLoss: 1.545153\n",
            "Train Epoch: 4 [36000/60000 (60%)]\tLoss: 1.558202\n",
            "Train Epoch: 4 [38000/60000 (63%)]\tLoss: 1.533070\n",
            "Train Epoch: 4 [40000/60000 (67%)]\tLoss: 1.615179\n",
            "Train Epoch: 4 [42000/60000 (70%)]\tLoss: 1.576565\n",
            "Train Epoch: 4 [44000/60000 (73%)]\tLoss: 1.587543\n",
            "Train Epoch: 4 [46000/60000 (77%)]\tLoss: 1.542986\n",
            "Train Epoch: 4 [48000/60000 (80%)]\tLoss: 1.562405\n",
            "Train Epoch: 4 [50000/60000 (83%)]\tLoss: 1.574162\n",
            "Train Epoch: 4 [52000/60000 (87%)]\tLoss: 1.616317\n",
            "Train Epoch: 4 [54000/60000 (90%)]\tLoss: 1.542090\n",
            "Train Epoch: 4 [56000/60000 (93%)]\tLoss: 1.544384\n",
            "Train Epoch: 4 [58000/60000 (97%)]\tLoss: 1.544665\n",
            "\n",
            "Test set: Average Loss: 0.0150, Accuracy 9619/10000 (96%\n",
            ")\n",
            "Train Epoch: 5 [0/60000 (0%)]\tLoss: 1.542699\n",
            "Train Epoch: 5 [2000/60000 (3%)]\tLoss: 1.550575\n",
            "Train Epoch: 5 [4000/60000 (7%)]\tLoss: 1.515650\n",
            "Train Epoch: 5 [6000/60000 (10%)]\tLoss: 1.583734\n",
            "Train Epoch: 5 [8000/60000 (13%)]\tLoss: 1.553104\n",
            "Train Epoch: 5 [10000/60000 (17%)]\tLoss: 1.548512\n",
            "Train Epoch: 5 [12000/60000 (20%)]\tLoss: 1.525513\n",
            "Train Epoch: 5 [14000/60000 (23%)]\tLoss: 1.566307\n",
            "Train Epoch: 5 [16000/60000 (27%)]\tLoss: 1.549389\n",
            "Train Epoch: 5 [18000/60000 (30%)]\tLoss: 1.545368\n",
            "Train Epoch: 5 [20000/60000 (33%)]\tLoss: 1.524939\n",
            "Train Epoch: 5 [22000/60000 (37%)]\tLoss: 1.574192\n",
            "Train Epoch: 5 [24000/60000 (40%)]\tLoss: 1.511037\n",
            "Train Epoch: 5 [26000/60000 (43%)]\tLoss: 1.511239\n",
            "Train Epoch: 5 [28000/60000 (47%)]\tLoss: 1.564341\n",
            "Train Epoch: 5 [30000/60000 (50%)]\tLoss: 1.536210\n",
            "Train Epoch: 5 [32000/60000 (53%)]\tLoss: 1.493693\n",
            "Train Epoch: 5 [34000/60000 (57%)]\tLoss: 1.556492\n",
            "Train Epoch: 5 [36000/60000 (60%)]\tLoss: 1.537817\n",
            "Train Epoch: 5 [38000/60000 (63%)]\tLoss: 1.507518\n",
            "Train Epoch: 5 [40000/60000 (67%)]\tLoss: 1.567158\n",
            "Train Epoch: 5 [42000/60000 (70%)]\tLoss: 1.533863\n",
            "Train Epoch: 5 [44000/60000 (73%)]\tLoss: 1.524047\n",
            "Train Epoch: 5 [46000/60000 (77%)]\tLoss: 1.556393\n",
            "Train Epoch: 5 [48000/60000 (80%)]\tLoss: 1.525409\n",
            "Train Epoch: 5 [50000/60000 (83%)]\tLoss: 1.527107\n",
            "Train Epoch: 5 [52000/60000 (87%)]\tLoss: 1.502035\n",
            "Train Epoch: 5 [54000/60000 (90%)]\tLoss: 1.559491\n",
            "Train Epoch: 5 [56000/60000 (93%)]\tLoss: 1.592808\n",
            "Train Epoch: 5 [58000/60000 (97%)]\tLoss: 1.535696\n",
            "\n",
            "Test set: Average Loss: 0.0150, Accuracy 9633/10000 (96%\n",
            ")\n",
            "Train Epoch: 6 [0/60000 (0%)]\tLoss: 1.557050\n",
            "Train Epoch: 6 [2000/60000 (3%)]\tLoss: 1.522076\n",
            "Train Epoch: 6 [4000/60000 (7%)]\tLoss: 1.561080\n",
            "Train Epoch: 6 [6000/60000 (10%)]\tLoss: 1.544234\n",
            "Train Epoch: 6 [8000/60000 (13%)]\tLoss: 1.526206\n",
            "Train Epoch: 6 [10000/60000 (17%)]\tLoss: 1.592258\n",
            "Train Epoch: 6 [12000/60000 (20%)]\tLoss: 1.542687\n",
            "Train Epoch: 6 [14000/60000 (23%)]\tLoss: 1.564986\n",
            "Train Epoch: 6 [16000/60000 (27%)]\tLoss: 1.571266\n",
            "Train Epoch: 6 [18000/60000 (30%)]\tLoss: 1.536164\n",
            "Train Epoch: 6 [20000/60000 (33%)]\tLoss: 1.599949\n",
            "Train Epoch: 6 [22000/60000 (37%)]\tLoss: 1.490034\n",
            "Train Epoch: 6 [24000/60000 (40%)]\tLoss: 1.559097\n",
            "Train Epoch: 6 [26000/60000 (43%)]\tLoss: 1.535994\n",
            "Train Epoch: 6 [28000/60000 (47%)]\tLoss: 1.538996\n",
            "Train Epoch: 6 [30000/60000 (50%)]\tLoss: 1.525015\n",
            "Train Epoch: 6 [32000/60000 (53%)]\tLoss: 1.572620\n",
            "Train Epoch: 6 [34000/60000 (57%)]\tLoss: 1.518433\n",
            "Train Epoch: 6 [36000/60000 (60%)]\tLoss: 1.502157\n",
            "Train Epoch: 6 [38000/60000 (63%)]\tLoss: 1.539285\n",
            "Train Epoch: 6 [40000/60000 (67%)]\tLoss: 1.591925\n",
            "Train Epoch: 6 [42000/60000 (70%)]\tLoss: 1.571835\n",
            "Train Epoch: 6 [44000/60000 (73%)]\tLoss: 1.530911\n",
            "Train Epoch: 6 [46000/60000 (77%)]\tLoss: 1.544770\n",
            "Train Epoch: 6 [48000/60000 (80%)]\tLoss: 1.518940\n",
            "Train Epoch: 6 [50000/60000 (83%)]\tLoss: 1.518845\n",
            "Train Epoch: 6 [52000/60000 (87%)]\tLoss: 1.521575\n",
            "Train Epoch: 6 [54000/60000 (90%)]\tLoss: 1.541683\n",
            "Train Epoch: 6 [56000/60000 (93%)]\tLoss: 1.485152\n",
            "Train Epoch: 6 [58000/60000 (97%)]\tLoss: 1.532763\n",
            "\n",
            "Test set: Average Loss: 0.0150, Accuracy 9645/10000 (96%\n",
            ")\n",
            "Train Epoch: 7 [0/60000 (0%)]\tLoss: 1.565315\n",
            "Train Epoch: 7 [2000/60000 (3%)]\tLoss: 1.553130\n",
            "Train Epoch: 7 [4000/60000 (7%)]\tLoss: 1.493717\n",
            "Train Epoch: 7 [6000/60000 (10%)]\tLoss: 1.535082\n",
            "Train Epoch: 7 [8000/60000 (13%)]\tLoss: 1.526277\n",
            "Train Epoch: 7 [10000/60000 (17%)]\tLoss: 1.519393\n",
            "Train Epoch: 7 [12000/60000 (20%)]\tLoss: 1.525867\n",
            "Train Epoch: 7 [14000/60000 (23%)]\tLoss: 1.525288\n",
            "Train Epoch: 7 [16000/60000 (27%)]\tLoss: 1.516562\n",
            "Train Epoch: 7 [18000/60000 (30%)]\tLoss: 1.541309\n",
            "Train Epoch: 7 [20000/60000 (33%)]\tLoss: 1.540308\n",
            "Train Epoch: 7 [22000/60000 (37%)]\tLoss: 1.566491\n",
            "Train Epoch: 7 [24000/60000 (40%)]\tLoss: 1.527101\n",
            "Train Epoch: 7 [26000/60000 (43%)]\tLoss: 1.535768\n",
            "Train Epoch: 7 [28000/60000 (47%)]\tLoss: 1.548520\n",
            "Train Epoch: 7 [30000/60000 (50%)]\tLoss: 1.555823\n",
            "Train Epoch: 7 [32000/60000 (53%)]\tLoss: 1.529981\n",
            "Train Epoch: 7 [34000/60000 (57%)]\tLoss: 1.497588\n",
            "Train Epoch: 7 [36000/60000 (60%)]\tLoss: 1.550770\n",
            "Train Epoch: 7 [38000/60000 (63%)]\tLoss: 1.509386\n",
            "Train Epoch: 7 [40000/60000 (67%)]\tLoss: 1.545005\n",
            "Train Epoch: 7 [42000/60000 (70%)]\tLoss: 1.529966\n",
            "Train Epoch: 7 [44000/60000 (73%)]\tLoss: 1.532824\n",
            "Train Epoch: 7 [46000/60000 (77%)]\tLoss: 1.574690\n",
            "Train Epoch: 7 [48000/60000 (80%)]\tLoss: 1.521464\n",
            "Train Epoch: 7 [50000/60000 (83%)]\tLoss: 1.505801\n",
            "Train Epoch: 7 [52000/60000 (87%)]\tLoss: 1.563207\n",
            "Train Epoch: 7 [54000/60000 (90%)]\tLoss: 1.535531\n",
            "Train Epoch: 7 [56000/60000 (93%)]\tLoss: 1.517924\n",
            "Train Epoch: 7 [58000/60000 (97%)]\tLoss: 1.540527\n",
            "\n",
            "Test set: Average Loss: 0.0149, Accuracy 9696/10000 (97%\n",
            ")\n",
            "Train Epoch: 8 [0/60000 (0%)]\tLoss: 1.559700\n",
            "Train Epoch: 8 [2000/60000 (3%)]\tLoss: 1.493438\n",
            "Train Epoch: 8 [4000/60000 (7%)]\tLoss: 1.543210\n",
            "Train Epoch: 8 [6000/60000 (10%)]\tLoss: 1.555878\n",
            "Train Epoch: 8 [8000/60000 (13%)]\tLoss: 1.489581\n",
            "Train Epoch: 8 [10000/60000 (17%)]\tLoss: 1.481820\n",
            "Train Epoch: 8 [12000/60000 (20%)]\tLoss: 1.553829\n",
            "Train Epoch: 8 [14000/60000 (23%)]\tLoss: 1.557882\n",
            "Train Epoch: 8 [16000/60000 (27%)]\tLoss: 1.508817\n",
            "Train Epoch: 8 [18000/60000 (30%)]\tLoss: 1.530300\n",
            "Train Epoch: 8 [20000/60000 (33%)]\tLoss: 1.532291\n",
            "Train Epoch: 8 [22000/60000 (37%)]\tLoss: 1.528133\n",
            "Train Epoch: 8 [24000/60000 (40%)]\tLoss: 1.524074\n",
            "Train Epoch: 8 [26000/60000 (43%)]\tLoss: 1.542790\n",
            "Train Epoch: 8 [28000/60000 (47%)]\tLoss: 1.493414\n",
            "Train Epoch: 8 [30000/60000 (50%)]\tLoss: 1.515853\n",
            "Train Epoch: 8 [32000/60000 (53%)]\tLoss: 1.481739\n",
            "Train Epoch: 8 [34000/60000 (57%)]\tLoss: 1.559660\n",
            "Train Epoch: 8 [36000/60000 (60%)]\tLoss: 1.555701\n",
            "Train Epoch: 8 [38000/60000 (63%)]\tLoss: 1.529071\n",
            "Train Epoch: 8 [40000/60000 (67%)]\tLoss: 1.527935\n",
            "Train Epoch: 8 [42000/60000 (70%)]\tLoss: 1.516684\n",
            "Train Epoch: 8 [44000/60000 (73%)]\tLoss: 1.550850\n",
            "Train Epoch: 8 [46000/60000 (77%)]\tLoss: 1.569637\n",
            "Train Epoch: 8 [48000/60000 (80%)]\tLoss: 1.512928\n",
            "Train Epoch: 8 [50000/60000 (83%)]\tLoss: 1.560627\n",
            "Train Epoch: 8 [52000/60000 (87%)]\tLoss: 1.556156\n",
            "Train Epoch: 8 [54000/60000 (90%)]\tLoss: 1.507101\n",
            "Train Epoch: 8 [56000/60000 (93%)]\tLoss: 1.498424\n",
            "Train Epoch: 8 [58000/60000 (97%)]\tLoss: 1.500158\n",
            "\n",
            "Test set: Average Loss: 0.0149, Accuracy 9704/10000 (97%\n",
            ")\n",
            "Train Epoch: 9 [0/60000 (0%)]\tLoss: 1.525433\n",
            "Train Epoch: 9 [2000/60000 (3%)]\tLoss: 1.546774\n",
            "Train Epoch: 9 [4000/60000 (7%)]\tLoss: 1.533460\n",
            "Train Epoch: 9 [6000/60000 (10%)]\tLoss: 1.513727\n",
            "Train Epoch: 9 [8000/60000 (13%)]\tLoss: 1.549434\n",
            "Train Epoch: 9 [10000/60000 (17%)]\tLoss: 1.530074\n",
            "Train Epoch: 9 [12000/60000 (20%)]\tLoss: 1.552123\n",
            "Train Epoch: 9 [14000/60000 (23%)]\tLoss: 1.577415\n",
            "Train Epoch: 9 [16000/60000 (27%)]\tLoss: 1.523065\n",
            "Train Epoch: 9 [18000/60000 (30%)]\tLoss: 1.580741\n",
            "Train Epoch: 9 [20000/60000 (33%)]\tLoss: 1.571346\n",
            "Train Epoch: 9 [22000/60000 (37%)]\tLoss: 1.510391\n",
            "Train Epoch: 9 [24000/60000 (40%)]\tLoss: 1.505982\n",
            "Train Epoch: 9 [26000/60000 (43%)]\tLoss: 1.541311\n",
            "Train Epoch: 9 [28000/60000 (47%)]\tLoss: 1.524185\n",
            "Train Epoch: 9 [30000/60000 (50%)]\tLoss: 1.508292\n",
            "Train Epoch: 9 [32000/60000 (53%)]\tLoss: 1.525449\n",
            "Train Epoch: 9 [34000/60000 (57%)]\tLoss: 1.497634\n",
            "Train Epoch: 9 [36000/60000 (60%)]\tLoss: 1.483282\n",
            "Train Epoch: 9 [38000/60000 (63%)]\tLoss: 1.507993\n",
            "Train Epoch: 9 [40000/60000 (67%)]\tLoss: 1.617526\n",
            "Train Epoch: 9 [42000/60000 (70%)]\tLoss: 1.482521\n",
            "Train Epoch: 9 [44000/60000 (73%)]\tLoss: 1.520837\n",
            "Train Epoch: 9 [46000/60000 (77%)]\tLoss: 1.499254\n",
            "Train Epoch: 9 [48000/60000 (80%)]\tLoss: 1.559202\n",
            "Train Epoch: 9 [50000/60000 (83%)]\tLoss: 1.545145\n",
            "Train Epoch: 9 [52000/60000 (87%)]\tLoss: 1.577190\n",
            "Train Epoch: 9 [54000/60000 (90%)]\tLoss: 1.552276\n",
            "Train Epoch: 9 [56000/60000 (93%)]\tLoss: 1.500916\n",
            "Train Epoch: 9 [58000/60000 (97%)]\tLoss: 1.552015\n",
            "\n",
            "Test set: Average Loss: 0.0149, Accuracy 9726/10000 (97%\n",
            ")\n",
            "Train Epoch: 10 [0/60000 (0%)]\tLoss: 1.491875\n",
            "Train Epoch: 10 [2000/60000 (3%)]\tLoss: 1.594877\n",
            "Train Epoch: 10 [4000/60000 (7%)]\tLoss: 1.527768\n",
            "Train Epoch: 10 [6000/60000 (10%)]\tLoss: 1.530794\n",
            "Train Epoch: 10 [8000/60000 (13%)]\tLoss: 1.503930\n",
            "Train Epoch: 10 [10000/60000 (17%)]\tLoss: 1.531438\n",
            "Train Epoch: 10 [12000/60000 (20%)]\tLoss: 1.534334\n",
            "Train Epoch: 10 [14000/60000 (23%)]\tLoss: 1.509698\n",
            "Train Epoch: 10 [16000/60000 (27%)]\tLoss: 1.538380\n",
            "Train Epoch: 10 [18000/60000 (30%)]\tLoss: 1.555920\n",
            "Train Epoch: 10 [20000/60000 (33%)]\tLoss: 1.569443\n",
            "Train Epoch: 10 [22000/60000 (37%)]\tLoss: 1.505937\n",
            "Train Epoch: 10 [24000/60000 (40%)]\tLoss: 1.511443\n",
            "Train Epoch: 10 [26000/60000 (43%)]\tLoss: 1.499915\n",
            "Train Epoch: 10 [28000/60000 (47%)]\tLoss: 1.495929\n",
            "Train Epoch: 10 [30000/60000 (50%)]\tLoss: 1.517065\n",
            "Train Epoch: 10 [32000/60000 (53%)]\tLoss: 1.519979\n",
            "Train Epoch: 10 [34000/60000 (57%)]\tLoss: 1.511638\n",
            "Train Epoch: 10 [36000/60000 (60%)]\tLoss: 1.499025\n",
            "Train Epoch: 10 [38000/60000 (63%)]\tLoss: 1.529168\n",
            "Train Epoch: 10 [40000/60000 (67%)]\tLoss: 1.529509\n",
            "Train Epoch: 10 [42000/60000 (70%)]\tLoss: 1.539061\n",
            "Train Epoch: 10 [44000/60000 (73%)]\tLoss: 1.515270\n",
            "Train Epoch: 10 [46000/60000 (77%)]\tLoss: 1.552078\n",
            "Train Epoch: 10 [48000/60000 (80%)]\tLoss: 1.570222\n",
            "Train Epoch: 10 [50000/60000 (83%)]\tLoss: 1.525473\n",
            "Train Epoch: 10 [52000/60000 (87%)]\tLoss: 1.482043\n",
            "Train Epoch: 10 [54000/60000 (90%)]\tLoss: 1.526132\n",
            "Train Epoch: 10 [56000/60000 (93%)]\tLoss: 1.510264\n",
            "Train Epoch: 10 [58000/60000 (97%)]\tLoss: 1.495183\n",
            "\n",
            "Test set: Average Loss: 0.0149, Accuracy 9739/10000 (97%\n",
            ")\n"
          ]
        }
      ]
    },
    {
      "cell_type": "code",
      "source": [
        "device"
      ],
      "metadata": {
        "colab": {
          "base_uri": "https://localhost:8080/"
        },
        "id": "ngwOrN2YaAai",
        "outputId": "564c3322-97bb-4b73-8a9f-531d6fd00170"
      },
      "execution_count": 23,
      "outputs": [
        {
          "output_type": "execute_result",
          "data": {
            "text/plain": [
              "device(type='cuda')"
            ]
          },
          "metadata": {},
          "execution_count": 23
        }
      ]
    },
    {
      "cell_type": "code",
      "source": [
        "import matplotlib.pyplot as plt\n",
        "\n",
        "model.eval()\n",
        "data, target = test_data[300]\n",
        "data = data.unsqueeze(0).to(device)\n",
        "output = model(data)\n",
        "prediction = output.argmax(dim=1, keepdim=True).item()\n",
        "print(f'Prediction: {prediction}')\n",
        "image = data.squeeze(0).squeeze(0).cpu().numpy()\n",
        "plt.imshow(image, cmap='Blues')\n",
        "plt.show()"
      ],
      "metadata": {
        "colab": {
          "base_uri": "https://localhost:8080/",
          "height": 482
        },
        "id": "u0Jv5K7baCfh",
        "outputId": "e28717d0-d82c-4afd-dcf6-20b0786914c0"
      },
      "execution_count": 30,
      "outputs": [
        {
          "output_type": "stream",
          "name": "stdout",
          "text": [
            "Prediction: 4\n"
          ]
        },
        {
          "output_type": "stream",
          "name": "stderr",
          "text": [
            "<ipython-input-16-bfe69c405935>:24: UserWarning: Implicit dimension choice for softmax has been deprecated. Change the call to include dim=X as an argument.\n",
            "  return F.softmax(x)\n"
          ]
        },
        {
          "output_type": "display_data",
          "data": {
            "text/plain": [
              "<Figure size 640x480 with 1 Axes>"
            ],
            "image/png": "[encoded data removed]"
          },
          "metadata": {}
        }
      ]
    }
  ]
}